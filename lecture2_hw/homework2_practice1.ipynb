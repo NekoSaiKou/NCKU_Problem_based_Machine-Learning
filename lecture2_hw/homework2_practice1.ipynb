{
 "cells": [
  {
   "cell_type": "markdown",
   "metadata": {},
   "source": [
    "homework2 practice 1\n",
    "==\n",
    "\n",
    "[Kagle dataset](https://www.kaggle.com/deeptiagl/notebook8c69ceb62e/data)"
   ]
  },
  {
   "cell_type": "markdown",
   "metadata": {},
   "source": [
    "### import library   "
   ]
  },
  {
   "cell_type": "code",
   "execution_count": 1,
   "metadata": {},
   "outputs": [],
   "source": [
    "import pandas as pd\n",
    "import numpy as np"
   ]
  },
  {
   "cell_type": "markdown",
   "metadata": {},
   "source": [
    "## 1.Top-10 Reviewer"
   ]
  },
  {
   "cell_type": "markdown",
   "metadata": {},
   "source": [
    "### initialization\n",
    "\n",
    "Datapath = \"./Reviews.csv\" "
   ]
  },
  {
   "cell_type": "code",
   "execution_count": 2,
   "metadata": {},
   "outputs": [],
   "source": [
    "# Input data path\n",
    "data_path = \"./Reviews.csv\" \n",
    "\n",
    "# Read csv file to pandas dataframe\n",
    "pd_data = pd.read_csv(data_path, index_col = False)[:10000]"
   ]
  },
  {
   "cell_type": "markdown",
   "metadata": {},
   "source": [
    "### obtain score sum and average"
   ]
  },
  {
   "cell_type": "code",
   "execution_count": 3,
   "metadata": {},
   "outputs": [],
   "source": [
    "group = pd_data.groupby([ 'UserId','ProfileName'])\n",
    "output = group.size().reset_index(name='Score count')\n",
    "ave = group['Score'].mean().reset_index(name='Score mean')['Score mean']\n",
    "output[\"Score mean\"] = ave"
   ]
  },
  {
   "cell_type": "markdown",
   "metadata": {},
   "source": [
    "### sort the dataframe by number of reviews"
   ]
  },
  {
   "cell_type": "code",
   "execution_count": 4,
   "metadata": {},
   "outputs": [
    {
     "data": {
      "text/html": [
       "<div>\n",
       "<style scoped>\n",
       "    .dataframe tbody tr th:only-of-type {\n",
       "        vertical-align: middle;\n",
       "    }\n",
       "\n",
       "    .dataframe tbody tr th {\n",
       "        vertical-align: top;\n",
       "    }\n",
       "\n",
       "    .dataframe thead th {\n",
       "        text-align: right;\n",
       "    }\n",
       "</style>\n",
       "<table border=\"1\" class=\"dataframe\">\n",
       "  <thead>\n",
       "    <tr style=\"text-align: right;\">\n",
       "      <th></th>\n",
       "      <th>UserId</th>\n",
       "      <th>ProfileName</th>\n",
       "      <th>Score count</th>\n",
       "      <th>Score mean</th>\n",
       "    </tr>\n",
       "  </thead>\n",
       "  <tbody>\n",
       "    <tr>\n",
       "      <th>0</th>\n",
       "      <td>A1Z54EM24Y40LL</td>\n",
       "      <td>c2</td>\n",
       "      <td>17</td>\n",
       "      <td>3.882353</td>\n",
       "    </tr>\n",
       "    <tr>\n",
       "      <th>1</th>\n",
       "      <td>A2SZLNSI5KOQJT</td>\n",
       "      <td>Carrie, \"Formerly &amp;#34;Sister Carrie&amp;#34;\"</td>\n",
       "      <td>10</td>\n",
       "      <td>3.800000</td>\n",
       "    </tr>\n",
       "    <tr>\n",
       "      <th>2</th>\n",
       "      <td>A35R32TA60XD57</td>\n",
       "      <td>M. Torma</td>\n",
       "      <td>9</td>\n",
       "      <td>4.111111</td>\n",
       "    </tr>\n",
       "    <tr>\n",
       "      <th>3</th>\n",
       "      <td>A281NPSIMI1C2R</td>\n",
       "      <td>Rebecca of Amazon \"The Rebecca Review\"</td>\n",
       "      <td>8</td>\n",
       "      <td>5.000000</td>\n",
       "    </tr>\n",
       "    <tr>\n",
       "      <th>4</th>\n",
       "      <td>A3OXHLG6DIBRW8</td>\n",
       "      <td>C. F. Hill \"CFH\"</td>\n",
       "      <td>7</td>\n",
       "      <td>4.428571</td>\n",
       "    </tr>\n",
       "    <tr>\n",
       "      <th>5</th>\n",
       "      <td>A3NHUQ33CFH3VM</td>\n",
       "      <td>Citizen John</td>\n",
       "      <td>7</td>\n",
       "      <td>3.142857</td>\n",
       "    </tr>\n",
       "    <tr>\n",
       "      <th>6</th>\n",
       "      <td>A3PJZ8TU8FDQ1K</td>\n",
       "      <td>Jared Castle</td>\n",
       "      <td>7</td>\n",
       "      <td>4.714286</td>\n",
       "    </tr>\n",
       "    <tr>\n",
       "      <th>7</th>\n",
       "      <td>AQ6SHOW0VMZGF</td>\n",
       "      <td>K. Padgett \"familyof5\"</td>\n",
       "      <td>6</td>\n",
       "      <td>2.666667</td>\n",
       "    </tr>\n",
       "    <tr>\n",
       "      <th>8</th>\n",
       "      <td>A26NFIQ7KWI8Y7</td>\n",
       "      <td>kt rose</td>\n",
       "      <td>6</td>\n",
       "      <td>2.666667</td>\n",
       "    </tr>\n",
       "    <tr>\n",
       "      <th>9</th>\n",
       "      <td>A10H24TDLK2VDP</td>\n",
       "      <td>William Jens Jensen</td>\n",
       "      <td>6</td>\n",
       "      <td>3.000000</td>\n",
       "    </tr>\n",
       "  </tbody>\n",
       "</table>\n",
       "</div>"
      ],
      "text/plain": [
       "           UserId                                 ProfileName  Score count  \\\n",
       "0  A1Z54EM24Y40LL                                          c2           17   \n",
       "1  A2SZLNSI5KOQJT  Carrie, \"Formerly &#34;Sister Carrie&#34;\"           10   \n",
       "2  A35R32TA60XD57                                    M. Torma            9   \n",
       "3  A281NPSIMI1C2R      Rebecca of Amazon \"The Rebecca Review\"            8   \n",
       "4  A3OXHLG6DIBRW8                            C. F. Hill \"CFH\"            7   \n",
       "5  A3NHUQ33CFH3VM                                Citizen John            7   \n",
       "6  A3PJZ8TU8FDQ1K                                Jared Castle            7   \n",
       "7   AQ6SHOW0VMZGF                      K. Padgett \"familyof5\"            6   \n",
       "8  A26NFIQ7KWI8Y7                                     kt rose            6   \n",
       "9  A10H24TDLK2VDP                         William Jens Jensen            6   \n",
       "\n",
       "   Score mean  \n",
       "0    3.882353  \n",
       "1    3.800000  \n",
       "2    4.111111  \n",
       "3    5.000000  \n",
       "4    4.428571  \n",
       "5    3.142857  \n",
       "6    4.714286  \n",
       "7    2.666667  \n",
       "8    2.666667  \n",
       "9    3.000000  "
      ]
     },
     "execution_count": 4,
     "metadata": {},
     "output_type": "execute_result"
    }
   ],
   "source": [
    "output = output.sort_values(by = ['Score count'], ascending=False)\n",
    "output.reset_index(drop=True, inplace=True)\n",
    "output.head(10)"
   ]
  },
  {
   "cell_type": "markdown",
   "metadata": {},
   "source": [
    "## 2.Plot score distribution for the user with the most number of reviews"
   ]
  },
  {
   "cell_type": "markdown",
   "metadata": {},
   "source": [
    "### import library"
   ]
  },
  {
   "cell_type": "code",
   "execution_count": 5,
   "metadata": {},
   "outputs": [],
   "source": [
    "import matplotlib.pyplot as plt\n",
    "import seaborn as sns"
   ]
  },
  {
   "cell_type": "code",
   "execution_count": 6,
   "metadata": {},
   "outputs": [
    {
     "data": {
      "image/png": "[encoded data removed]",
      "text/plain": [
       "<Figure size 720x504 with 1 Axes>"
      ]
     },
     "metadata": {},
     "output_type": "display_data"
    }
   ],
   "source": [
    "target = output[\"UserId\"][0]\n",
    "target_data = pd_data.loc[pd_data['UserId'] == target]\n",
    "target_score = target_data.groupby(['Score']).size().reset_index(name='Count')\n",
    "\n",
    "# Set seaborn plot and color style \n",
    "sns.set(style=\"white\")\n",
    "sns.set_palette(sns.color_palette('bright'))\n",
    "\n",
    "# Set plot size\n",
    "plt.figure(figsize=(10, 7))\n",
    "\n",
    "# Generate plot\n",
    "plot = sns.barplot(x = 'Score', y = 'Count', data = target_score)\n",
    "\n",
    "# Set these based on your column counts\n",
    "columncounts = [50,50,50,50,50]\n",
    "\n",
    "# Maximum bar width is 1. Normalise counts to be in the interval 0-1. Need to supply a maximum possible count here as maxwidth\n",
    "def normaliseCounts(widths,maxwidth):\n",
    "    widths = np.array(widths)/float(maxwidth)\n",
    "    return widths\n",
    "\n",
    "widthbars = normaliseCounts(columncounts,100)\n",
    "\n",
    "# Loop over the bars, and adjust the width (and position, to keep the bar centred)\n",
    "for bar,newwidth in zip(plot.patches,widthbars):\n",
    "    x = bar.get_x()\n",
    "    width = bar.get_width()\n",
    "    centre = x+width/2.\n",
    "\n",
    "    bar.set_x(centre-newwidth/2.)\n",
    "    bar.set_width(newwidth)\n",
    "\n",
    "    \n",
    "plot.set_xticklabels(plot.get_xticklabels(), rotation=90)\n",
    "    \n",
    "# Set title and label\n",
    "plot.set_title('score distribution for the user with the most number of reviews')\n",
    "plot.set_xlabel('')\n",
    "plot.set_ylabel('')\n",
    "\n",
    "# Plot\n",
    "plt.show()\n"
   ]
  },
  {
   "cell_type": "markdown",
   "metadata": {},
   "source": [
    "## 3.Plot pandas Series DataFrame (Time->Date)"
   ]
  },
  {
   "cell_type": "code",
   "execution_count": 7,
   "metadata": {},
   "outputs": [
    {
     "data": {
      "image/png": "[encoded data removed]",
      "text/plain": [
       "<Figure size 432x288 with 1 Axes>"
      ]
     },
     "metadata": {},
     "output_type": "display_data"
    }
   ],
   "source": [
    "# Create a new dataframe object and fill it with year data\n",
    "tmp_data = pd.DataFrame()\n",
    "tmp_data[\"Year\"] = pd.to_datetime(pd_data[\"Time\"], unit='s').dt.year\n",
    "\n",
    "# Group by year and count its size\n",
    "group_year = tmp_data.groupby('Year')\n",
    "year_count = group_year.size().reset_index(name='Review Count')\n",
    "\n",
    "# Set up plot color\n",
    "sns.set_palette(sns.color_palette('muted'))\n",
    "\n",
    "# Plot bar with year and count\n",
    "plt.bar(year_count['Year'],year_count['Review Count'])\n",
    "\n",
    "# Set up plot label\n",
    "plt.xlabel(\"Review year\")\n",
    "plt.ylabel(\"Review count\")\n",
    "plt.title(\"Review count by year\")\n",
    "plt.show()"
   ]
  },
  {
   "cell_type": "markdown",
   "metadata": {},
   "source": [
    "## 4.Plot HeatMap using seaborn\n",
    "\n",
    "This heat map works by correlation. This shows you which variables are correlated to each other from a scale of 1 being the most correlated and -1 is not correlated at all.   \n",
    "Adding the annot parameter will add correlation numbers to each cell in the visuals."
   ]
  },
  {
   "cell_type": "code",
   "execution_count": 8,
   "metadata": {},
   "outputs": [
    {
     "data": {
      "image/png": "[encoded data removed]",
      "text/plain": [
       "<Figure size 720x720 with 2 Axes>"
      ]
     },
     "metadata": {},
     "output_type": "display_data"
    }
   ],
   "source": [
    "heat_df = pd_data[['Id','HelpfulnessNumerator','HelpfulnessDenominator','Score','Time']]\n",
    "plt.figure(figsize=(10, 10))\n",
    "sns.heatmap(heat_df.corr(),annot=True)\n",
    "plt.show()"
   ]
  },
  {
   "cell_type": "markdown",
   "metadata": {},
   "source": [
    "5.Helpful percent\n",
    "==\n",
    "\n",
    "*    If viewers of that comment upvote the comment, then it adds to Helpfulness numerator.\n",
    "*    If viewers of that comment just make a comment, then it adds to Helpfulness denominator.\n",
    "*    Note : you should filter out some cases with numerator > denominator\n",
    "*    Plot the distribution of helpful percent (hint: .hist())\n",
    "*    Ratio = -1, if both Helpfulness numerator & Helpfulness denominator are zero.  "
   ]
  },
  {
   "cell_type": "code",
   "execution_count": 9,
   "metadata": {},
   "outputs": [
    {
     "data": {
      "image/png": "[encoded data removed]",
      "text/plain": [
       "<Figure size 432x288 with 1 Axes>"
      ]
     },
     "metadata": {},
     "output_type": "display_data"
    }
   ],
   "source": [
    "# Percentage calculating function\n",
    "def percentage_calculator(row):\n",
    "    if row['HelpfulnessNumerator'] <= row['HelpfulnessDenominator'] and row['HelpfulnessDenominator']!= 0:\n",
    "        return row['HelpfulnessNumerator']/row['HelpfulnessDenominator']\n",
    "    elif row['HelpfulnessNumerator'] == 0 and row['HelpfulnessDenominator'] == 0:\n",
    "        return -1\n",
    "    else:\n",
    "        return 0\n",
    "\n",
    "# Create a new dataframe object and get the return value after percentage is obtained\n",
    "tmp_data = pd.DataFrame()\n",
    "tmp_data['Help percent'] = pd_data.apply(percentage_calculator, axis=1)\n",
    "\n",
    "# Draw\n",
    "sns.set_palette(sns.color_palette('muted'))\n",
    "hist = tmp_data.hist(column='Help percent')"
   ]
  }
 ],
 "metadata": {
  "kernelspec": {
   "display_name": "Python 3",
   "language": "python",
   "name": "python3"
  },
  "language_info": {
   "codemirror_mode": {
    "name": "ipython",
    "version": 3
   },
   "file_extension": ".py",
   "mimetype": "text/x-python",
   "name": "python",
   "nbconvert_exporter": "python",
   "pygments_lexer": "ipython3",
   "version": "3.7.3"
  }
 },
 "nbformat": 4,
 "nbformat_minor": 2
}
